{
 "cells": [
  {
   "cell_type": "code",
   "execution_count": 172,
   "metadata": {},
   "outputs": [],
   "source": [
    "import pandas as pd\n",
    "import numpy as np\n",
    "from sklearn.linear_model import LinearRegression\n",
    "import os\n",
    "from plotnine import *\n",
    "\n",
    "os.chdir(\"/home/rstudio\")"
   ]
  },
  {
   "cell_type": "code",
   "execution_count": 203,
   "metadata": {},
   "outputs": [
    {
     "data": {
      "text/html": [
       "<div>\n",
       "<style scoped>\n",
       "    .dataframe tbody tr th:only-of-type {\n",
       "        vertical-align: middle;\n",
       "    }\n",
       "\n",
       "    .dataframe tbody tr th {\n",
       "        vertical-align: top;\n",
       "    }\n",
       "\n",
       "    .dataframe thead th {\n",
       "        text-align: right;\n",
       "    }\n",
       "</style>\n",
       "<table border=\"1\" class=\"dataframe\">\n",
       "  <thead>\n",
       "    <tr style=\"text-align: right;\">\n",
       "      <th></th>\n",
       "      <th>Unnamed: 0</th>\n",
       "      <th>year</th>\n",
       "      <th>deaths</th>\n",
       "      <th>pop</th>\n",
       "      <th>barrels</th>\n",
       "      <th>crude.rate</th>\n",
       "    </tr>\n",
       "  </thead>\n",
       "  <tbody>\n",
       "    <tr>\n",
       "      <th>0</th>\n",
       "      <td>1</td>\n",
       "      <td>2008</td>\n",
       "      <td>14831</td>\n",
       "      <td>303513730</td>\n",
       "      <td>18467.914014</td>\n",
       "      <td>48.864346</td>\n",
       "    </tr>\n",
       "    <tr>\n",
       "      <th>1</th>\n",
       "      <td>2</td>\n",
       "      <td>2009</td>\n",
       "      <td>15157</td>\n",
       "      <td>306179301</td>\n",
       "      <td>18335.791978</td>\n",
       "      <td>49.503673</td>\n",
       "    </tr>\n",
       "    <tr>\n",
       "      <th>2</th>\n",
       "      <td>3</td>\n",
       "      <td>2010</td>\n",
       "      <td>15955</td>\n",
       "      <td>308143815</td>\n",
       "      <td>18120.787422</td>\n",
       "      <td>51.777771</td>\n",
       "    </tr>\n",
       "    <tr>\n",
       "      <th>3</th>\n",
       "      <td>4</td>\n",
       "      <td>2011</td>\n",
       "      <td>16726</td>\n",
       "      <td>311098385</td>\n",
       "      <td>17807.113777</td>\n",
       "      <td>53.764342</td>\n",
       "    </tr>\n",
       "    <tr>\n",
       "      <th>4</th>\n",
       "      <td>5</td>\n",
       "      <td>2012</td>\n",
       "      <td>17381</td>\n",
       "      <td>313467281</td>\n",
       "      <td>18039.377862</td>\n",
       "      <td>55.447573</td>\n",
       "    </tr>\n",
       "    <tr>\n",
       "      <th>5</th>\n",
       "      <td>6</td>\n",
       "      <td>2013</td>\n",
       "      <td>18115</td>\n",
       "      <td>315777855</td>\n",
       "      <td>17807.467546</td>\n",
       "      <td>57.366277</td>\n",
       "    </tr>\n",
       "    <tr>\n",
       "      <th>6</th>\n",
       "      <td>7</td>\n",
       "      <td>2014</td>\n",
       "      <td>19352</td>\n",
       "      <td>318247565</td>\n",
       "      <td>17736.981891</td>\n",
       "      <td>60.808006</td>\n",
       "    </tr>\n",
       "    <tr>\n",
       "      <th>7</th>\n",
       "      <td>8</td>\n",
       "      <td>2015</td>\n",
       "      <td>20992</td>\n",
       "      <td>320746592</td>\n",
       "      <td>17601.569484</td>\n",
       "      <td>65.447305</td>\n",
       "    </tr>\n",
       "  </tbody>\n",
       "</table>\n",
       "</div>"
      ],
      "text/plain": [
       "   Unnamed: 0  year  deaths        pop       barrels  crude.rate\n",
       "0           1  2008   14831  303513730  18467.914014   48.864346\n",
       "1           2  2009   15157  306179301  18335.791978   49.503673\n",
       "2           3  2010   15955  308143815  18120.787422   51.777771\n",
       "3           4  2011   16726  311098385  17807.113777   53.764342\n",
       "4           5  2012   17381  313467281  18039.377862   55.447573\n",
       "5           6  2013   18115  315777855  17807.467546   57.366277\n",
       "6           7  2014   19352  318247565  17736.981891   60.808006\n",
       "7           8  2015   20992  320746592  17601.569484   65.447305"
      ]
     },
     "execution_count": 203,
     "metadata": {},
     "output_type": "execute_result"
    }
   ],
   "source": [
    "beer = pd.read_csv(\"~/derived_data/allBeer_state_aggregated.csv\")\n",
    "beer"
   ]
  },
  {
   "cell_type": "code",
   "execution_count": 75,
   "metadata": {},
   "outputs": [],
   "source": [
    "barrels = beer.loc[:, 'barrels'].values.reshape(-1, 1)\n",
    "crude_rate = beer.loc[:, 'crude.rate'].values.reshape(-1, 1) "
   ]
  },
  {
   "cell_type": "code",
   "execution_count": 136,
   "metadata": {},
   "outputs": [],
   "source": [
    "## Linear model of barrels vs crude\n",
    "lm = LinearRegression()\n",
    "model = lm.fit(barrels, crude_rate)\n",
    "pred = lm.predict(barrels)\n",
    "r2 = model.score(barrels, crude_rate)"
   ]
  },
  {
   "cell_type": "code",
   "execution_count": 196,
   "metadata": {},
   "outputs": [
    {
     "name": "stderr",
     "output_type": "stream",
     "text": [
      "/usr/local/lib/python3.8/dist-packages/plotnine/ggplot.py:727: PlotnineWarning: Saving 6.4 x 4.8 in image.\n",
      "/usr/local/lib/python3.8/dist-packages/plotnine/ggplot.py:730: PlotnineWarning: Filename: figures/allBeer_crudeRate_lm_p9.png\n"
     ]
    }
   ],
   "source": [
    "## Plot barrels and crude rate\n",
    "g1 = (ggplot(beer, aes(x = 'barrels', y = 'crude.rate')) + \n",
    " geom_point(color = 'black') + \n",
    " geom_text(aes(label = 'year'),\n",
    "           position = positions.position_nudge(0,1)) + \n",
    " stat_smooth(aes(x = 'barrels', y = 'crude.rate'), color = 'blue',\n",
    "             method = 'lm',\n",
    "             se = False) + \n",
    " labs(title = \"Crude Rate versus Beer Production\", \n",
    " x = \"Ten Thousands of Barrels\", \n",
    " y = \"Deaths per Million\") + \n",
    " annotate(\"text\", x = 18250, \n",
    "          y = 65, \n",
    "          label = \"R2:\" + str(round(r2, 3))))\n",
    "g1.save(\"figures/allBeer_crudeRate_lm_p9.png\")"
   ]
  },
  {
   "cell_type": "code",
   "execution_count": 209,
   "metadata": {},
   "outputs": [
    {
     "name": "stderr",
     "output_type": "stream",
     "text": [
      "/usr/local/lib/python3.8/dist-packages/plotnine/ggplot.py:727: PlotnineWarning: Saving 6.4 x 4.8 in image.\n",
      "/usr/local/lib/python3.8/dist-packages/plotnine/ggplot.py:730: PlotnineWarning: Filename: figures/allBeer_years_p9.png\n"
     ]
    }
   ],
   "source": [
    "g2 = (ggplot(beer, aes(x = 'year', y = 'barrels')) + \n",
    " geom_point() +\n",
    " labs(title = \"National Beer Production 2008-2015\",\n",
    "      x = \"Ten Thousands of Barrels\",\n",
    "      y = \"Year\"))\n",
    "g2.save(\"figures/allBeer_years_p9.png\")"
   ]
  },
  {
   "cell_type": "code",
   "execution_count": 215,
   "metadata": {},
   "outputs": [
    {
     "name": "stderr",
     "output_type": "stream",
     "text": [
      "/usr/local/lib/python3.8/dist-packages/plotnine/ggplot.py:727: PlotnineWarning: Saving 6.4 x 4.8 in image.\n",
      "/usr/local/lib/python3.8/dist-packages/plotnine/ggplot.py:730: PlotnineWarning: Filename: figures/allBeer_liver_years_p9.png\n"
     ]
    }
   ],
   "source": [
    "g3 =  (ggplot(beer, aes(x = 'year', y = 'crude.rate')) + \n",
    "  geom_point() + \n",
    "  labs(title = \"National Liver Disease Mortality 2008-2015\",\n",
    "       x = \"Year\", \n",
    "       y = \"Mortality per Million\"))\n",
    "g3.save(\"figures/allBeer_liver_years_p9.png\")"
   ]
  }
 ],
 "metadata": {
  "kernelspec": {
   "display_name": "Python 3",
   "language": "python",
   "name": "python3"
  },
  "language_info": {
   "codemirror_mode": {
    "name": "ipython",
    "version": 3
   },
   "file_extension": ".py",
   "mimetype": "text/x-python",
   "name": "python",
   "nbconvert_exporter": "python",
   "pygments_lexer": "ipython3",
   "version": "3.8.5"
  }
 },
 "nbformat": 4,
 "nbformat_minor": 4
}
