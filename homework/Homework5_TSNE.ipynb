{
 "cells": [
  {
   "cell_type": "code",
   "execution_count": 8,
   "metadata": {},
   "outputs": [
    {
     "data": {
      "text/plain": [
       "'/home/rstudio/homework'"
      ]
     },
     "execution_count": 8,
     "metadata": {},
     "output_type": "execute_result"
    }
   ],
   "source": [
    "import os\n",
    "os.getcwd()"
   ]
  },
  {
   "cell_type": "code",
   "execution_count": 9,
   "metadata": {},
   "outputs": [
    {
     "name": "stdout",
     "output_type": "stream",
     "text": [
      "   Intelligence  Strength  Speed  Durability  Power  Combat  Total\n",
      "0            50        31     43          32     25      52    233\n",
      "1            38       100     17          80     17      64    316\n",
      "2            88        14     35          42     35      85    299\n",
      "3            50        90     53          64     84      65    406\n",
      "4            63        80     53          90     55      95    436\n",
      "       TSNE1      TSNE2\n",
      "0  -9.318483  -8.911827\n",
      "1 -16.031040   3.772835\n",
      "2  -5.124130  -1.324928\n",
      "3 -13.492919  18.639502\n",
      "4 -11.533337  19.812347\n"
     ]
    }
   ],
   "source": [
    "import numpy as np\n",
    "import pandas as pd\n",
    "from sklearn.manifold import TSNE\n",
    "\n",
    "char = pd.read_csv(\"datasets_charcters_stats.csv\")\n",
    "numVar = char.iloc[:,2:9]\n",
    "print(numVar.head())\n",
    "\n",
    "tsne = TSNE(n_components=2).fit_transform(numVar)\n",
    "tsne = pd.DataFrame(data=tsne,columns=[\"TSNE1\",\"TSNE2\"])\n",
    "print(tsne.head())\n",
    "\n",
    "tsne.to_csv(\"tsneOut.csv\")"
   ]
  },
  {
   "cell_type": "code",
   "execution_count": 22,
   "metadata": {},
   "outputs": [
    {
     "name": "stderr",
     "output_type": "stream",
     "text": [
      "/usr/local/lib/python3.8/dist-packages/plotnine/ggplot.py:727: PlotnineWarning: Saving 6.4 x 4.8 in image.\n",
      "/usr/local/lib/python3.8/dist-packages/plotnine/ggplot.py:730: PlotnineWarning: Filename: plotnine-alignment-tsne.png\n"
     ]
    }
   ],
   "source": [
    "from plotnine import ggplot, geom_point, aes, stat_smooth, facet_wrap\n",
    "\n",
    "align = char.loc[:,\"Alignment\"]\n",
    "\n",
    "g = (ggplot(tsne, aes(\"TSNE1\",\"TSNE2\", fill = align)) + \n",
    "     geom_point())\n",
    "g.save(\"plotnine-alignment-tsne.png\")\n",
    "\n",
    "\n"
   ]
  }
 ],
 "metadata": {
  "kernelspec": {
   "display_name": "Python 3",
   "language": "python",
   "name": "python3"
  },
  "language_info": {
   "codemirror_mode": {
    "name": "ipython",
    "version": 3
   },
   "file_extension": ".py",
   "mimetype": "text/x-python",
   "name": "python",
   "nbconvert_exporter": "python",
   "pygments_lexer": "ipython3",
   "version": "3.8.5"
  }
 },
 "nbformat": 4,
 "nbformat_minor": 4
}
